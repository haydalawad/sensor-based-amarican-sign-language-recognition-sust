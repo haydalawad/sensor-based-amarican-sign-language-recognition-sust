﻿#basic libraries


       "import numpy as np\n",
        "import pandas as pd\n",
        "import matplotlib.pyplot as plt\n",
        "\n",
        "import os\n"
    #command for import the data 
        "cell_df = pd.read_csv('/content/drive/MyDrive/DATA ANAS TEST 100داتا الاصل لكل الحروف.csv')\n",
        "\n",
        "cell_df1 = pd.read_csv('/content/drive/MyDrive/الداتا من قياسنا تعديل 5(تم الاسترداد تلقائياً).CSV')\n"
          #commands to know the shape, size and the columns name   from the data file
          
        "cell_df.shape\n"

      
        "cell_df.size\n"
      
        "cell_df.head()\n"

        "cell_df.count()\n"
#the algorithm 
        "feature_df= cell_df[['thumbFlex', 'indexFlex', 'middleFlex', 'ringFlex', 'littleFlex']]\n",
        "\n",
        "x1 = np.asarray(feature_df)\n",
        
        "x2[0:15]\n"
      
        "y1= np.asarray(cell_df['letter'])\n",
        "y1[0:16]"
            "--- X ---\n",
            "--- testX ---\n",
            "--- Y ---\n",
            "--- testy ---\n"
        "y1_predict = classifier.predict(testX)"
#The output
      
        "print (classification_report(testy ,y1_predict))"
      #convert the gestur into sound
        "!pip install gTTS\n",
        "from gtts import gTTS\n",
        "from IPython.display import Audio\n",
        "tts = gTTS(y1_predict [60])\n",
        "tts.save('3.wav')\n",
        "sound_file = '3.wav'\n",
        "Audio(sound_file, autoplay=True)"
      

