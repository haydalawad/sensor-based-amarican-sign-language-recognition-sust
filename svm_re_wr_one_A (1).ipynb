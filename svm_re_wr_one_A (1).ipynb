#basic libraries
import numpy as np
import pandas as pd
import matplotlib.pyplot as plt

import os
# data import

cell_df = pd.read_csv('/content/drive/MyDrive/DATA ANAS TEST 100داتا الاصل لكل الحروف.csv')

cell_df1 = pd.read_csv('/content/drive/MyDrive/الداتا من قياسنا تعديل 5(تم الاسترداد تلقائياً).CSV')
#  data file size shape , type and  content


cell_df1.shape

cell_df1.size

cell_df1.head()

cell_df.count()

cell_df1.dtypes

cell_df1.columns

# the algorithm

# classification of the parameters
feature_df= cell_df[['thumbFlex', 'indexFlex', 'middleFlex', 'ringFlex', 'littleFlex']]

x1 = np.asarray(feature_df)
cell_df1.columns 
feature_df1= cell_df1[['thumbFlex', 'indexFlex', 'middleFlex', 'ringFlex', 'littleFlex']]

x2 = np.asarray(feature_df1)

y1= np.asarray(cell_df['letter']
y2= np.asarray(cell_df1['letter'])
# train and test of the algorithm

from scipy.sparse.construct import random
from sklearn.model_selection import train_test_split 

from keras.utils import to_categorical

print("--- X ---")
X_train = x1
print("--- testX ---")
testX = x2


X_train.shape
print("--- Y ---")
y_train = y1
y_train.shape

X_train.shape
testX.shape

print("--- testy ---")
testy = y2

from scipy.sparse.construct import random
from sklearn.model_selection import train_test_split

from sklearn import svm
svm.SVC
classifier = svm.SVC(kernel='linear',gamma='auto',C=10)
classifier.fit(X_train,y_train)

y1_predict = classifier.predict(testX)
# the output

from sklearn.metrics import classification_report

print (classification_report(testy ,y1_predict))

print(y1_predict [60])
# convert of gesture into sound


print(y1_predict [135])

!pip install gTTS
from gtts import gTTS
from IPython.display import Audio
tts = gTTS(y1_predict [135])
tts.save('4.wav')
sound_file = '4.wav'
Audio(sound_file, autoplay=True)


