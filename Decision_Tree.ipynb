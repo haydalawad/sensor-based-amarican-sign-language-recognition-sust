﻿      
        # Basic libraries
import numpy as np
import pandas as pd
import matplotlib.pyplot as plt

from sklearn.model_selection import train_test_split
from sklearn.tree import DecisionTreeClassifier
from sklearn.metrics import accuracy_score
from sklearn import tree



import os
# import of data


balance_data = pd.read_csv('/content/drive/MyDrive/DATA ANAS TEST 100.csv',sep= ',', header= 1)
balance_data2 = pd.read_csv('/content/drive/MyDrive/الداتا من قياسنا تعديل 5(تم الاسترداد تلقائياً).CSV',sep= ',', header= 1)
# each data file length , shape and columns

print ("Dataset Lenght:: "), len(balance_data)
print ("Dataset Shape:: "), balance_data.shape

print ("Dataset Lenght2:: "), len(balance_data2)
print ("Dataset Shape2:: "), balance_data2.shape

print ("Dataset:: ")
balance_data.head()

print ("Dataset2:: ")
balance_data2.head()
# the algorithm 
# classification of parameters

X_train = balance_data.values[:, 0:16]
y_train = balance_data.values[:,16]
X_test = balance_data2.values[:, 0:16]
y_test = balance_data2.values[:,16]

clf_entropy = DecisionTreeClassifier(criterion = "entropy", random_state =10000,
max_depth=30, min_samples_leaf=3)
clf_entropy.fit(X_test,y_test)

y_pred_en = clf_entropy.predict(X_test)
# the output
y_pred_en

print ("Accuracy is "), accuracy_score(y_test,y_pred_en)*100
#convert the gesture into speech and text

print(y_pred_en[0])

!pip install gTTS

from gtts import gTTS
from IPython.display import Audio
tts = gTTS(y_pred_en[0])
tts.save('1.wav')
sound_file = '1.wav'
Audio(sound_file, autoplay=True)

print(y_pred_en[17])

!pip install gTTS

from gtts import gTTS
from IPython.display import Audio
tts = gTTS(y_pred_en[17])
tts.save('2.wav')
sound_file = '2.wav'
Audio(sound_file, autoplay=True)


