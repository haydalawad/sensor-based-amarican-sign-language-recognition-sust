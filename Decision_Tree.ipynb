﻿       # the basic libraries
  "import numpy as np\n",
        "import pandas as pd\n",
        "import matplotlib.pyplot as plt\n",
        "\n",
        "from sklearn.model_selection import train_test_split\n",
        "from sklearn.tree import DecisionTreeClassifier\n",
        "from sklearn.metrics import accuracy_score\n",
        "from sklearn import tree\n",
        "\n",
        "\n",
        "\n",
        "import os\n",
        "\n",
        "\n",
# the data import

        "balance_data = pd.read_csv('/content/drive/MyDrive/DATA ANAS TEST 100.csv',sep= ',', header= 1)\n",
        "balance_data2 = pd.read_csv('/content/drive/MyDrive/الداتا من قياسنا تعديل 5(تم الاسترداد تلقائياً).CSV',sep= ',', header= 1)"
      
      # command for data shape and length

            "Dataset Lenght:: \n",
            "Dataset Shape:: \n"
          
        "print (\"Dataset Lenght:: \"), len(balance_data)\n",
        "print (\"Dataset Shape:: \"), balance_data.shape\n"
        "balance_data.head()"
      # the algorithm

        "X_train = balance_data.values[:, 0:16]\n",
        "y_train = balance_data.values[:,16]\n",
        "X_test = balance_data2.values[:, 0:16]\n",
        "y_test = balance_data2.values[:,16]\n"
              "DecisionTreeClassifier(criterion='entropy', max_depth=30, min_samples_leaf=3,\n",
              "                       random_state=10000)"
        "clf_entropy.fit(X_test,y_test)"

        "y_pred_en = clf_entropy.predict(X_test)\n",
# the output
        "y_pred_en"
        "print (\"Accuracy is \"), accuracy_score(y_test,y_pred_en)*100"
# convert the gesture into speech and sound
    
        "print(y_pred_en[0])\n"
        "!pip install gTTS\n",
        "\n",
        "from gtts import gTTS\n",
        "from IPython.display import Audio\n",
        "tts = gTTS(y_pred_en[0])\n",
        "tts.save('1.wav')\n",
        "sound_file = '1.wav'\n",
        "Audio(sound_file, autoplay=True)"

